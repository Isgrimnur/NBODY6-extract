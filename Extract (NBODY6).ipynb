{
 "cells": [
  {
   "cell_type": "markdown",
   "metadata": {},
   "source": [
    "## PROGRAM extrct\n",
    "Extracts data from the N-body output files Single.dat (fort.83) and Binary.dat (fort.82) relating to the overall cluster evolution, ie. half-mass radius and relaxation time, cluster mass, membership, core radius. \n",
    "\n",
    "Note: planets are ignored in this version. \n",
    "\n",
    "Output in extrct.dat: \n",
    "\n",
    "*   Number of single stars + binaries \n",
    "*   Number of binaries \n",
    "*   Time (Myr) \n",
    "*   Relaxation time (Myr) \n",
    "*   Total cluster mass (Msun) \n",
    "*   Mass in core (Msun) \n",
    "*   Mass outside the tidal radius (Msun) \n",
    "*   Maximum stellar distance from cluster centre of mass (pc) \n",
    "*   Half-mass radius (pc) \n",
    "*   Radius containing inner 10% of cluster mass (pc) \n",
    "*   Core radius - as determined by Nbody code (pc) \n",
    "*   Number of systems (stars + binaries) inside the half-mass radius   \n",
    "*   Number of systems within 1pc of the cluster centre    \n",
    "*   Number of systems within the inner lagrangian radius (10%)  \n",
    "*   Number of systems within the core radius \n",
    "*   Velocity dispersion (km/s)"
   ]
  },
  {
   "cell_type": "code",
   "execution_count": 43,
   "metadata": {
    "collapsed": false
   },
   "outputs": [],
   "source": [
    "#Necessary libraries\n",
    "%matplotlib inline\n",
    "import matplotlib.pyplot as plt\n",
    "import numpy as np\n",
    "from numpy import genfromtxt"
   ]
  },
  {
   "cell_type": "markdown",
   "metadata": {},
   "source": [
    "## Reformatting and reading data from fort.83 and fort.82\n",
    "(Removing format of fort.83 and fort.82 - run this just once)"
   ]
  },
  {
   "cell_type": "code",
   "execution_count": 2,
   "metadata": {
    "collapsed": false
   },
   "outputs": [],
   "source": [
    "import os.path\n",
    "\n",
    "file83 = os.path.isfile('fort.83-awk')\n",
    "file82 = os.path.isfile('fort.82-awk')\n",
    "\n",
    "if not file83:\n",
    "    !awk '{print $1,$2,$3,$4,$5,$6,$7,$8,$9,$10,$11,$12,$13}' fort.83 > fort.83-awk\n",
    "    print \"Removing format of fort.83\"\n",
    "if not file82:\n",
    "    !awk '{print $1,$2,$3,$4,$5,$6,$7,$8,$9,$10,$11,$12,$13,$14,$15,$16,$17,$18,$19,$20,$21,$22,$23,$24}' fort.82 > fort.82-awk\n",
    "    print \"Removing format of fort.82\""
   ]
  },
  {
   "cell_type": "code",
   "execution_count": 44,
   "metadata": {
    "collapsed": false
   },
   "outputs": [],
   "source": [
    "Ns = 0\n",
    "Nb = 0\n",
    "with open(\"fort.83-awk\", 'r') as file1:\n",
    "    with open(\"fort.82-awk\", 'r') as file2:\n",
    "        while file1 and file2:\n",
    "            line11 = file1.readline()\n",
    "            line21 = file2.readline()\n",
    "            if not (line11 and line21):\n",
    "                break\n",
    "            words11 = line11.split()\n",
    "            words21 = line21.split()\n",
    "            Ns = int(words11[0])\n",
    "            Nb = int(words21[0])\n",
    "            if Ns != -1000:\n",
    "                line12 = file1.readline()\n",
    "                words12 = line12.split()\n",
    "                line13 = file1.readline()\n",
    "                words13 = line13.split()\n",
    "                blockS = np.fromfile(file1, sep=' ', count=13*Ns).reshape([Ns,13])\n",
    "            if Nb != -1000:\n",
    "                blockB = np.fromfile(file2, sep=' ', count=24*Nb).reshape([Nb,24])"
   ]
  },
  {
   "cell_type": "code",
   "execution_count": 50,
   "metadata": {
    "collapsed": false
   },
   "outputs": [],
   "source": [
    "#Numerical initiation of constants\n",
    "amin = 1.0e+10\n",
    "amax = -1.0e+10\n",
    "vstar = -1\n",
    "trhsum = 0\n",
    "iprsum = -1\n",
    "m0 = 0\n",
    "rmax = 1\n",
    "mtot = 0\n",
    "mout = 0\n",
    "n1 = 0\n",
    "n2 = 0\n",
    "n1pc = 0\n",
    "vdisp = 0\n",
    "msgl = 0\n",
    "nsgl = 0\n",
    "mwd = 0.0\n",
    "nwd = 0\n"
   ]
  },
  {
   "cell_type": "code",
   "execution_count": 57,
   "metadata": {
    "collapsed": false
   },
   "outputs": [],
   "source": [
    "#Astronomical constants\n",
    "pc = 3.0856776e+18\n",
    "au = pc/1.4959787e+12"
   ]
  },
  {
   "cell_type": "code",
   "execution_count": null,
   "metadata": {
    "collapsed": true
   },
   "outputs": [],
   "source": [
    "#Main call of functions and writing to output file"
   ]
  },
  {
   "cell_type": "code",
   "execution_count": 56,
   "metadata": {
    "collapsed": false
   },
   "outputs": [
    {
     "name": "stdout",
     "output_type": "stream",
     "text": [
      "3.0856776e+18\n"
     ]
    }
   ],
   "source": [
    "def globaldata():\n",
    "    m0 = float(words13[0])\n",
    "    rbar = words12[3]\n",
    "    zmbar = words13[1]\n",
    "    su = pc/(au*6.955e+10)*rbar*au\n",
    "    if vstar == 0:\n",
    "        vstar = 0.06557d0*SQRT(m0/rbar)\n",
    "        print ' ZMBAR RBAR VSTAR ',m0,rbar,vstar\n",
    "        ebcut = (1./zmbar)*(1./zmbar)/(20/su)"
   ]
  },
  {
   "cell_type": "code",
   "execution_count": 13,
   "metadata": {
    "collapsed": false
   },
   "outputs": [
    {
     "data": {
      "text/plain": [
       "False"
      ]
     },
     "execution_count": 13,
     "metadata": {},
     "output_type": "execute_result"
    }
   ],
   "source": [
    "#OPEN(3,file='extrct.dat',status='unknown')"
   ]
  }
 ],
 "metadata": {
  "kernelspec": {
   "display_name": "Python 2",
   "language": "python",
   "name": "python2"
  },
  "language_info": {
   "codemirror_mode": {
    "name": "ipython",
    "version": 2
   },
   "file_extension": ".py",
   "mimetype": "text/x-python",
   "name": "python",
   "nbconvert_exporter": "python",
   "pygments_lexer": "ipython2",
   "version": "2.7.3"
  }
 },
 "nbformat": 4,
 "nbformat_minor": 0
}
