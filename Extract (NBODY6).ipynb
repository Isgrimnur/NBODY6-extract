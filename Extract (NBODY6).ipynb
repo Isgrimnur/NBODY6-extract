{
 "cells": [
  {
   "cell_type": "markdown",
   "metadata": {},
   "source": [
    "## PROGRAM extrct\n",
    "Extracts data from the N-body output files Single.dat (fort.83) and Binary.dat (fort.82) relating to the overall cluster evolution, ie. half-mass radius and relaxation time, cluster mass, membership, core radius. \n",
    "\n",
    "Note: planets are ignored in this version. \n",
    "\n",
    "Output in extrct.dat: \n",
    "\n",
    "*   Number of single stars + binaries \n",
    "*   Number of binaries \n",
    "*   Time (Myr) \n",
    "*   Relaxation time (Myr) \n",
    "*   Total cluster mass (Msun) \n",
    "*   Core radius - as determined by Nbody code (pc) \n",
    "*   (work in progress) Mass in core (Msun) \n",
    "*   (work in progress) Mass outside the tidal radius (Msun) \n",
    "*   (work in progress) Maximum stellar distance from cluster centre of mass (pc) \n",
    "*   (work in progress) Half-mass radius (pc) \n",
    "*   (work in progress) Radius containing inner 10% of cluster mass (pc) \n",
    "*   (work in progress) Number of systems (stars + binaries) inside the half-mass radius   \n",
    "*   (work in progress) Number of systems within 1pc of the cluster centre    \n",
    "*   (work in progress) Number of systems within the inner lagrangian radius (10%)  \n",
    "*   (work in progress) Number of systems within the core radius \n",
    "*   (work in progress) Velocity dispersion (km/s)"
   ]
  },
  {
   "cell_type": "code",
   "execution_count": 1,
   "metadata": {
    "collapsed": false
   },
   "outputs": [],
   "source": [
    "#Necessary libraries\n",
    "%matplotlib inline\n",
    "import matplotlib.pyplot as plt\n",
    "import numpy as np\n",
    "from numpy import genfromtxt\n",
    "import sys"
   ]
  },
  {
   "cell_type": "markdown",
   "metadata": {},
   "source": [
    "## Reformatting and reading data from fort.83 and fort.82\n",
    "(Removing format of fort.83 and fort.82 - run this just once)"
   ]
  },
  {
   "cell_type": "code",
   "execution_count": 9,
   "metadata": {
    "collapsed": false
   },
   "outputs": [],
   "source": [
    "import os.path\n",
    "\n",
    "file83 = os.path.isfile('fort.83-awk')\n",
    "file82 = os.path.isfile('fort.82-awk')\n",
    "\n",
    "if not file83:\n",
    "    !awk '{print $1,$2,$3,$4,$5,$6,$7,$8,$9,$10,$11,$12,$13}' fort.83 > fort.83-awk\n",
    "    print \"Removing format of fort.83\"\n",
    "if not file82:\n",
    "    !awk '{print $1,$2,$3,$4,$5,$6,$7,$8,$9,$10,$11,$12,$13,$14,$15,$16,$17,$18,$19,$20,$21,$22,$23,$24}' fort.82 > fort.82-awk\n",
    "    print \"Removing format of fort.82\""
   ]
  },
  {
   "cell_type": "code",
   "execution_count": 267,
   "metadata": {
    "collapsed": false
   },
   "outputs": [
    {
     "name": "stdout",
     "output_type": "stream",
     "text": [
      "pass\n"
     ]
    }
   ],
   "source": [
    "Ns = 0\n",
    "Nb = 0\n",
    "mout = 0\n",
    "#Output file\n",
    "output = open('extrct.dat','w')\n",
    "#Input files\n",
    "with open(\"fort.83-awk\", 'r') as file1:\n",
    "    with open(\"fort.82-awk\", 'r') as file2:\n",
    "        while (file1 and file2):\n",
    "            rdd = 0\n",
    "            line11 = file1.readline()\n",
    "            line21 = file2.readline()\n",
    "            if not (line11 and line21):\n",
    "                break\n",
    "            words11 = line11.split()\n",
    "            words21 = line21.split()\n",
    "#Number of single and binary systems            \n",
    "            Ns = int(words11[0])\n",
    "            Nb = int(words21[0])\n",
    "            if Ns != -1000:\n",
    "                Nsingle = np.array(Ns)\n",
    "                #Time in physical units\n",
    "                tphys = np.array(float(words11[1]))\n",
    "                line12 = file1.readline()\n",
    "                words12 = line12.split()\n",
    "                line13 = file1.readline()\n",
    "                words13 = line13.split()\n",
    "                #Time block for single systems\n",
    "                blockS = np.fromfile(file1, sep=' ', count=13*Ns).reshape([Ns,13])\n",
    "                rd = np.sqrt((blockS[:,5]-float(words12[4]))**2+(blockS[:,6]-float(words12[5]))**2+(blockS[:,7]-float(words12[6]))**2).reshape([Ns,1])\n",
    "                aux = np.append(blockS, rd, 1)\n",
    "                #Time block sort by radii\n",
    "                aux1 = np.array(sorted(aux,key=lambda x: x[13]))\n",
    "            if Nb != -1000:\n",
    "                Nbinary = np.array(Nb)\n",
    "                #Time block for binary systems\n",
    "                blockB = np.fromfile(file2, sep=' ', count=24*Nb).reshape([Nb,24])\n",
    "                rdB = np.sqrt((blockB[:,14]-float(words12[4]))**2+(blockB[:,15]-float(words12[5]))**2+(blockB[:,16]-float(words12[6]))**2).reshape([Nb,1])\n",
    "                aux2 = np.append(blockB, rdB, 1)\n",
    "                #Time block sort by radii\n",
    "                aux3 = np.array(sorted(aux2,key=lambda x: x[24]))\n",
    "                #Total number of systems and binary systems\n",
    "                data = np.append(Nsingle+Nbinary,Nbinary)\n",
    "                #Total mass\n",
    "                mtot = sum(blockS[:,2])+sum(blockB[:,8])+sum(blockB[:,9])\n",
    "                #Core radius\n",
    "                rc = np.array(float(words12[1]))\n",
    "                mc = 0\n",
    "                m50 = 0\n",
    "                for x in range(Ns):\n",
    "                    if aux1[x,13] > float(words12[3]): mout = mout + aux1[x,2]\n",
    "                for xx in range(Nb):\n",
    "                    if aux3[xx,24] > float(words12[3]): mout = mout + (aux3[xx,8] + aux3[xx,9])\n",
    "                for y in range(Ns):\n",
    "                    if m50 < 0.5*(mtot-mout): \n",
    "                        m50 = m50 + aux1[y,2]\n",
    "                        j = y\n",
    "                    if aux1[y,13] <= rc: mc = mc + aux1[y,2]               \n",
    "                trh1 = data[0]/np.log10(0.4*data[0])\n",
    "                r50 = aux1[j,13]*float(words12[2])\n",
    "                #Relaxation time\n",
    "                trh = 0.858*trh1*np.sqrt(r50**3/mtot)\n",
    "                #Append values and output\n",
    "                data = np.append(data,tphys)\n",
    "                data = np.append(data,trh)\n",
    "                data = np.append(data,mtot)\n",
    "                data = np.append(data,rc)\n",
    "                data = np.column_stack(data)\n",
    "                np.savetxt(output,data,delimiter=\" \",fmt=\"%i %i %1.3f %1.3f %1.3f %1.3f\")\n",
    "output.close()\n",
    "print \"pass\""
   ]
  },
  {
   "cell_type": "code",
   "execution_count": null,
   "metadata": {
    "collapsed": true
   },
   "outputs": [],
   "source": []
  }
 ],
 "metadata": {
  "kernelspec": {
   "display_name": "Python 2",
   "language": "python",
   "name": "python2"
  },
  "language_info": {
   "codemirror_mode": {
    "name": "ipython",
    "version": 2
   },
   "file_extension": ".py",
   "mimetype": "text/x-python",
   "name": "python",
   "nbconvert_exporter": "python",
   "pygments_lexer": "ipython2",
   "version": "2.7.3"
  }
 },
 "nbformat": 4,
 "nbformat_minor": 0
}
