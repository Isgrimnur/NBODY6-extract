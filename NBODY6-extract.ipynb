{
 "cells": [
  {
   "cell_type": "markdown",
   "metadata": {},
   "source": [
    "## PROGRAM extrct\n",
    "* Extracts data from the N-body output files Single.dat (fort.83)\n",
    "* and Binary.dat (fort.82) relating to the overall cluster\n",
    "* evolution, ie. half-mass radius and relaxation time, cluster mass,\n",
    "* membership, core radius. \n",
    "* Note: planets are ignored in this version. \n",
    "*\n",
    "* Output in extrct.dat: \n",
    "*\n",
    "*   Number of single stars + binaries \n",
    "*   Number of binaries \n",
    "*   Time (Myr) \n",
    "*   Relaxation time (Myr) \n",
    "*   Total cluster mass (Msun) \n",
    "*   Mass in core (Msun) \n",
    "*   Mass outside the tidal radius (Msun) \n",
    "*   Maximum stellar distance from cluster centre of mass (pc) \n",
    "*   Half-mass radius (pc) \n",
    "*   Radius containing inner 10% of cluster mass (pc) \n",
    "*   Core radius - as determined by Nbody code (pc) \n",
    "*   Number of systems (stars + binaries) inside the half-mass radius   \n",
    "*   Number of systems within 1pc of the cluster centre    \n",
    "*   Number of systems within the inner lagrangian radius (10%)  \n",
    "*   Number of systems within the core radius \n",
    "*   Velocity dispersion (km/s)"
   ]
  },
  {
   "cell_type": "code",
   "execution_count": 1,
   "metadata": {
    "collapsed": false
   },
   "outputs": [],
   "source": [
    "#Necessary libraries\n",
    "import matplotlib as plt\n",
    "import numpy as np"
   ]
  },
  {
   "cell_type": "code",
   "execution_count": 64,
   "metadata": {
    "collapsed": false
   },
   "outputs": [],
   "source": [
    "from numpy import genfromtxt\n",
    "with open(\"fort.83-h\", 'r') as file:\n",
    "    while file:\n",
    "        line = file.readline()\n",
    "        words = line.split()\n",
    "        N = int(words[0])\n",
    "        line2 = file.readline()\n",
    "        words1 = line2.split()\n",
    "        line3 = file.readline()\n",
    "        words3 = line3.split()\n",
    "        #array_type = np.zeros([N+1,13]) # Need to create this via numpy and should be the right dimensions\n",
    "        block = genfromtxt(file)#, dtype=array_type, delimiter=' ')\n",
    "        break"
   ]
  },
  {
   "cell_type": "code",
   "execution_count": 63,
   "metadata": {
    "collapsed": false
   },
   "outputs": [
    {
     "data": {
      "text/plain": [
       "336.0"
      ]
     },
     "execution_count": 63,
     "metadata": {},
     "output_type": "execute_result"
    }
   ],
   "source": [
    "block[1,0]"
   ]
  },
  {
   "cell_type": "code",
   "execution_count": 9,
   "metadata": {
    "collapsed": true
   },
   "outputs": [
    {
     "data": {
      "text/plain": [
       "['__class__',\n",
       " '__delattr__',\n",
       " '__doc__',\n",
       " '__enter__',\n",
       " '__exit__',\n",
       " '__format__',\n",
       " '__getattribute__',\n",
       " '__hash__',\n",
       " '__init__',\n",
       " '__iter__',\n",
       " '__new__',\n",
       " '__reduce__',\n",
       " '__reduce_ex__',\n",
       " '__repr__',\n",
       " '__setattr__',\n",
       " '__sizeof__',\n",
       " '__str__',\n",
       " '__subclasshook__',\n",
       " 'close',\n",
       " 'closed',\n",
       " 'encoding',\n",
       " 'errors',\n",
       " 'fileno',\n",
       " 'flush',\n",
       " 'isatty',\n",
       " 'mode',\n",
       " 'name',\n",
       " 'newlines',\n",
       " 'next',\n",
       " 'read',\n",
       " 'readinto',\n",
       " 'readline',\n",
       " 'readlines',\n",
       " 'seek',\n",
       " 'softspace',\n",
       " 'tell',\n",
       " 'truncate',\n",
       " 'write',\n",
       " 'writelines',\n",
       " 'xreadlines']"
      ]
     },
     "execution_count": 9,
     "metadata": {},
     "output_type": "execute_result"
    }
   ],
   "source": [
    "inputFile = open(\"fort.83\",'rb')\n",
    "\n",
    "i = 0\n",
    "numLinesTab = 0\n",
    "tmpLinesTab = []\n",
    "for line in inputFile:\n",
    "    if i == 0:    \n",
    "        tmpStringList = line.split(' ')\n",
    "        tmparray = []\n",
    "        for j in tmpStringList:\n",
    "            if j != '':\n",
    "                tmparray.append(j)\n",
    "    #\n",
    "        numLinesTab = int(tmparray[0])\n",
    "        i +=1\n",
    "    # \n",
    "    elif (i >= 3) and (i<numLines+3):\n",
    "        tmpLinesTab.append(line)\n",
    "        i+=1\n",
    "    else: \n",
    "        break"
   ]
  },
  {
   "cell_type": "code",
   "execution_count": 6,
   "metadata": {
    "collapsed": true
   },
   "outputs": [],
   "source": [
    "inputFile.close()"
   ]
  },
  {
   "cell_type": "code",
   "execution_count": null,
   "metadata": {
    "collapsed": false
   },
   "outputs": [],
   "source": [
    "    tout = 1000.0\n",
    "      bin = .true.\n",
    "      OPEN(1,file='Single.dat',status='old')\n",
    "      if(bin) OPEN(2,file='Binary.dat',status='old')\n",
    "      amin = 1.0e+10\n",
    "      amax = -1.0e+10\n",
    "\n",
    "      OPEN(3,file='extrct.dat',status='unknown')\n",
    "      ipr = 0\n",
    "      vstar = -1.d0\n",
    "      trhsum = 0.d0\n",
    "      iprsum = -1\n",
    "      m0 = 0.d0"
   ]
  },
  {
   "cell_type": "code",
   "execution_count": null,
   "metadata": {
    "collapsed": false
   },
   "outputs": [],
   "source": [
    "*\n",
    "* Read data\n",
    "*\n",
    " 1    READ(1,'(i8,f9.1)',end=9)ns,tphys\n",
    "      READ(1,'(i8,3f6.2,3f10.5)')nc,rc,rbar,rtide,(xc(j),j=1,3)\n",
    "      READ(1,'(f12.4,2f6.2)')zmbar,turn,rscale\n",
    "      rc = MAX(rc,0.01d0)\n",
    "      if(tout.ge.0.0.and.tphys.ge.tout)then\n",
    "         OPEN(11,file='Single.dat.tmp',status='unknown')\n",
    "         OPEN(21,file='Binary.dat.tmp',status='unknown')\n",
    "         WRITE(11,'(i8,f9.1)')ns,tphys\n",
    "         WRITE(11,'(i8,3f6.2,3f10.5)')nc,rc,rbar,rtide,(xc(j),j=1,3)\n",
    "         WRITE(11,'(f12.4,2f6.2)')zmbar,turn,rscale\n",
    "         write(*,*)' tout ',tout,tphys\n",
    "      endif\n",
    "      rmax = 1.0d-10\n",
    "      mtot = 0.d0\n",
    "      mout = 0.d0\n",
    "      n1 = 0\n",
    "      n2 = 0\n",
    "      n1pc = 0\n",
    "      vdisp = 0.d0\n",
    "      msgl = 0.d0\n",
    "      nsgl = 0\n",
    "      mwd = 0.0\n",
    "      nwd = 0\n",
    "      m0 = zmbar\n",
    "      if(ipr.eq.0)then\n",
    "         pc = 3.0856776d+18\n",
    "         au = pc/1.4959787d+12\n",
    "         su = pc/(au*6.955d+10)*rbar*au\n",
    "         if(vstar.lt.0.d0)then\n",
    "            vstar = 0.06557d0*SQRT(m0/rbar)\n",
    "            write(*,*)' ZMBAR RBAR VSTAR ',m0,rbar,vstar\n",
    "         endif\n",
    "         ebcut = (1.d0/zmbar)*(1.d0/zmbar)/(20.d0/su)\n",
    "         write(*,*)' ebcut ',ebcut\n",
    "      endif"
   ]
  }
 ],
 "metadata": {
  "kernelspec": {
   "display_name": "Python 2",
   "language": "python",
   "name": "python2"
  },
  "language_info": {
   "codemirror_mode": {
    "name": "ipython",
    "version": 2
   },
   "file_extension": ".py",
   "mimetype": "text/x-python",
   "name": "python",
   "nbconvert_exporter": "python",
   "pygments_lexer": "ipython2",
   "version": "2.7.6"
  }
 },
 "nbformat": 4,
 "nbformat_minor": 0
}
