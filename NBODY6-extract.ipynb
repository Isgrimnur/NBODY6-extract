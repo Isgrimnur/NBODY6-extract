load_ext ghdiff

## PROGRAM extrct
* Extracts data from the N-body output files Single.dat (fort.83)
* and Binary.dat (fort.82) relating to the overall cluster
* evolution, ie. half-mass radius and relaxation time, cluster mass,
* membership, core radius. 
* Note: planets are ignored in this version. 
*
* Output in extrct.dat: 
*
*   Number of single stars + binaries 
*   Number of binaries 
*   Time (Myr) 
*   Relaxation time (Myr) 
*   Total cluster mass (Msun) 
*   Mass in core (Msun) 
*   Mass outside the tidal radius (Msun) 
*   Maximum stellar distance from cluster centre of mass (pc) 
*   Half-mass radius (pc) 
*   Radius containing inner 10% of cluster mass (pc) 
*   Core radius - as determined by Nbody code (pc) 
*   Number of systems (stars + binaries) inside the half-mass radius   
*   Number of systems within 1pc of the cluster centre    
*   Number of systems within the inner lagrangian radius (10%)  
*   Number of systems within the core radius 
*   Velocity dispersion (km/s)

#Necessary libraries
import matplotlib as plt
import numpy as np

why is it not working?!
