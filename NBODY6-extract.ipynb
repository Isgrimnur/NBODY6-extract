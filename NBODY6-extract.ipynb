{
 "cells": [
  {
   "cell_type": "markdown",
   "metadata": {},
   "source": [
    "## PROGRAM extrct\n",
    "* Extracts data from the N-body output files Single.dat (fort.83)\n",
    "* and Binary.dat (fort.82) relating to the overall cluster\n",
    "* evolution, ie. half-mass radius and relaxation time, cluster mass,\n",
    "* membership, core radius. \n",
    "* Note: planets are ignored in this version. \n",
    "\n",
    "* Output in extrct.dat: \n",
    "\n",
    "*   Number of single stars + binaries \n",
    "*   Number of binaries \n",
    "*   Time (Myr) \n",
    "*   Relaxation time (Myr) \n",
    "*   Total cluster mass (Msun) \n",
    "*   Mass in core (Msun) \n",
    "*   Mass outside the tidal radius (Msun) \n",
    "*   Maximum stellar distance from cluster centre of mass (pc) \n",
    "*   Half-mass radius (pc) \n",
    "*   Radius containing inner 10% of cluster mass (pc) \n",
    "*   Core radius - as determined by Nbody code (pc) \n",
    "*   Number of systems (stars + binaries) inside the half-mass radius   \n",
    "*   Number of systems within 1pc of the cluster centre    \n",
    "*   Number of systems within the inner lagrangian radius (10%)  \n",
    "*   Number of systems within the core radius \n",
    "*   Velocity dispersion (km/s)"
   ]
  },
  {
   "cell_type": "code",
   "execution_count": 3,
   "metadata": {
    "collapsed": false
   },
   "outputs": [],
   "source": [
    "#Necessary libraries\n",
    "%matplotlib inline\n",
    "import matplotlib.pyplot as plt\n",
    "import numpy as np\n",
    "from numpy import genfromtxt"
   ]
  },
  {
   "cell_type": "code",
   "execution_count": 12,
   "metadata": {
    "collapsed": false
   },
   "outputs": [],
   "source": [
    "N = 0\n",
    "with open(\"fort.83-awk\", 'r') as file:\n",
    "    while file:\n",
    "        line = file.readline()\n",
    "        if not line:\n",
    "            break\n",
    "        words = line.split()\n",
    "        N = int(words[0])\n",
    "        if N != -1000: \n",
    "            #print \"N\",N\n",
    "            line2 = file.readline()\n",
    "            words1 = line2.split()\n",
    "            line3 = file.readline()\n",
    "            words3 = line3.split()\n",
    "            block = np.fromfile(file, sep=' ', count=13*N).reshape([N,13])\n",
    "            #print block[N-1,0]\n",
    "        N = 0"
   ]
  },
  {
   "cell_type": "code",
   "execution_count": 37,
   "metadata": {
    "collapsed": false
   },
   "outputs": [
    {
     "data": {
      "text/plain": [
       "667.0"
      ]
     },
     "execution_count": 37,
     "metadata": {},
     "output_type": "execute_result"
    }
   ],
   "source": [
    "block[332,0]"
   ]
  },
  {
   "cell_type": "code",
   "execution_count": null,
   "metadata": {
    "collapsed": true
   },
   "outputs": [],
   "source": []
  }
 ],
 "metadata": {
  "kernelspec": {
   "display_name": "Python 2",
   "language": "python",
   "name": "python2"
  },
  "language_info": {
   "codemirror_mode": {
    "name": "ipython",
    "version": 2
   },
   "file_extension": ".py",
   "mimetype": "text/x-python",
   "name": "python",
   "nbconvert_exporter": "python",
   "pygments_lexer": "ipython2",
   "version": "2.7.6"
  }
 },
 "nbformat": 4,
 "nbformat_minor": 0
}
